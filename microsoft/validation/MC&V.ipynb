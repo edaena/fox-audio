{
 "cells": [
  {
   "cell_type": "markdown",
   "metadata": {},
   "source": [
    "# Model Inference Comparison Script"
   ]
  },
  {
   "cell_type": "code",
   "execution_count": null,
   "metadata": {},
   "outputs": [],
   "source": [
    "import csv, json, glob, os, pandas as pd, objdict, ast\n",
    "\n",
    "compareDF = pd.DataFrame(columns=['VideoId'])\n",
    "modelCount = -1"
   ]
  },
  {
   "cell_type": "markdown",
   "metadata": {},
   "source": [
    "This Model Comparison Script takes in a json file directory where each json file has been normalized in the format below:\n",
    "\n",
    "``` json\n",
    "{\n",
    "  \"VideoId\": \"some-movie.wav\",\n",
    "  \"LabelData\": [\n",
    "    {\n",
    "      \"label_0\" \"427\",\n",
    "      \"labelConf_0\": \"0.4131\"\n",
    "    },\n",
    "    {\n",
    "      \"label_1\": \"213\",\n",
    "      \"labelConf_1\": \".3121\"\n",
    "    },\n",
    "    {\n",
    "      \"label_2\": \"0\",\n",
    "      \"labelConf_2\": \".2421\"\n",
    "    }\n",
    "  ]\n",
    "}\n",
    "```"
   ]
  },
  {
   "cell_type": "code",
   "execution_count": null,
   "metadata": {},
   "outputs": [],
   "source": [
    "\n",
    "#Pass a directory of formatted Inference Json files\n",
    "for jsonfile in glob.glob('NormalizedInferenceScores/*json'):\n",
    "    jsonDF = pd.read_json(jsonfile)\n",
    "    modelCount += 1\n",
    "    #Iterate through the rows and reformat based on key/value pairs\n",
    "    for index, row in jsonDF.iterrows():\n",
    "        \n",
    "        #check to see if VideoId currently exists in the master compare dataframe\n",
    "        if(compareDF['VideoId'].str.contains(str(row['VideoId'])).any()):\n",
    "            print(\"Its here\" + row['VideoId'] + \".\" + str(index))\n",
    "            jsonRow = row['Label_Data']\n",
    "            convertedRow = pd.DataFrame(columns=['VideoId'])\n",
    "            for field in jsonRow:\n",
    "                iterativeLabel = \"Model\"+str(modelCount)+\"_\"+field\n",
    "                if (index == 0):\n",
    "                    compareDF = compareDF.reindex(columns=[*compareDF.columns.tolist(), iterativeLabel], fill_value=0.0)\n",
    "            convertedRow.loc[0,'VideoId'] = row['VideoId']\n",
    "            compareDF = compareDF.append(convertedRow, ignore_index=True)\n",
    "            \n",
    "        else:\n",
    "            #print(\"New Audio Inference file detected, Adding: \" +compareDF.loc[index+1, 'VideoId'] + \"To Database\")\n",
    "            jsonRow = row['Label_Data']\n",
    "            convertedRow = pd.DataFrame(columns=['VideoId'])\n",
    "\n",
    "            for field in jsonRow:\n",
    "                #Create Columns for new model\n",
    "\n",
    "                iterativeLabel = \"Model\"+str(modelCount)+\"_\"+field\n",
    "                if (index == 0):\n",
    "                    compareDF = compareDF.reindex(columns=[*compareDF.columns.tolist(), iterativeLabel], fill_value=0.0)\n",
    "\n",
    "                convertedRow.loc[0, iterativeLabel] = jsonRow[field]\n",
    "\n",
    "            convertedRow.loc[0,'VideoId'] = row['VideoId']\n",
    "            compareDF = compareDF.append(convertedRow, ignore_index=True)\n",
    "    "
   ]
  },
  {
   "cell_type": "code",
   "execution_count": null,
   "metadata": {},
   "outputs": [],
   "source": [
    "print(modelCount)"
   ]
  },
  {
   "cell_type": "code",
   "execution_count": null,
   "metadata": {},
   "outputs": [],
   "source": [
    "row"
   ]
  },
  {
   "cell_type": "code",
   "execution_count": null,
   "metadata": {},
   "outputs": [],
   "source": [
    " #print(\"notinhere\")\n",
    "            jsonRow = row['Label_Data']\n",
    "            compareDF['VideoId'].concat( row['VideoId'])\n",
    "            #print(row['VideoId'])\n",
    "            #print(jsonRow)\n",
    "            convertedRow = pd.DataFrame(columns=['VideoId'])\n",
    "            for field in jsonRow:\n",
    "                #Create Columns for new model\n",
    "                #field)\n",
    "                iterativeLabel = \"Model\"+str(modelCount)+\"_\"+field\n",
    "                if (index == 0):\n",
    "                    compareDF = compareDF.reindex(columns=[*compareDF.columns.tolist(), iterativeLabel], fill_value=0.0)\n",
    "                    convertedRow= convertedRow.reindex(columns=[*convertedRow.columns.tolist(), iterativeLabel], fill_value=0.0)\n",
    "                    #print(iterativeLabel)\n",
    "                #compareDF.loc[index,iterativeLabel] = jsonRow[field]\n",
    "                convertedRow[iterativeLabel]=jsonRow[field]\n",
    "                #print(jsonRow[field])\n",
    "            #print(convertedRow)\n",
    "            #print(compareDF)\n",
    "            #compareDF = compareDF.append(convertedRow)\n",
    "            #print(compareDF)\n",
    "            #compareDF.loc[index] = convertedRow[0]\n"
   ]
  },
  {
   "cell_type": "code",
   "execution_count": null,
   "metadata": {},
   "outputs": [],
   "source": [
    "compareDF.loc[len(compareDF)] = [\"deadpool1_00-54-30.000.wav\"]"
   ]
  },
  {
   "cell_type": "code",
   "execution_count": null,
   "metadata": {},
   "outputs": [],
   "source": [
    "convertedRow = pd.DataFrame(columns=['VideoId'])\n",
    "convertedRow = convertedRow.append({'VideoId': row['VideoId']}, ignore_index=True)"
   ]
  },
  {
   "cell_type": "code",
   "execution_count": null,
   "metadata": {},
   "outputs": [],
   "source": [
    "convertedRow"
   ]
  },
  {
   "cell_type": "code",
   "execution_count": null,
   "metadata": {},
   "outputs": [],
   "source": [
    "convertedRow[iterativeLabel] = jsonRow[field]"
   ]
  },
  {
   "cell_type": "code",
   "execution_count": null,
   "metadata": {},
   "outputs": [],
   "source": [
    "compareDF.loc[2, 'VideoId']"
   ]
  },
  {
   "cell_type": "code",
   "execution_count": null,
   "metadata": {},
   "outputs": [],
   "source": [
    "jsonDF"
   ]
  },
  {
   "cell_type": "code",
   "execution_count": null,
   "metadata": {},
   "outputs": [],
   "source": [
    "compareDF"
   ]
  }
 ],
 "metadata": {
  "language_info": {
   "name": "python",
   "pygments_lexer": "ipython3"
  }
 },
 "nbformat": 4,
 "nbformat_minor": 2
}
