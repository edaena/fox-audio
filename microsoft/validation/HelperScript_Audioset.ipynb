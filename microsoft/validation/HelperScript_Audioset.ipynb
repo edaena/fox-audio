{
 "cells": [
  {
   "cell_type": "code",
   "execution_count": null,
   "metadata": {},
   "outputs": [],
   "source": [
    "import os\n",
    "import csv\n",
    "import glob\n",
    "import json\n",
    "import pandas as pd\n",
    "from collections import deque\n",
    "\n",
    "json_files = \"testJSON/\"\n",
    "csv_files =  \"testCSV/\""
   ]
  },
  {
   "cell_type": "code",
   "execution_count": null,
   "metadata": {},
   "outputs": [],
   "source": [
    "# check to see if flags have been set, otherwise throw ValueError\n",
    "for filename in os.listdir(csv_files):\n",
    "    if filename.endswith(\".csv\"):\n",
    "        print(\"INPUT FILENAME: \" + filename)\n",
    "        file_location = str(csv_files + \"/\" + filename)\n",
    "        df = pd.read_csv(filename)\n",
    "        audiosetData = {}\n",
    "        audiosetData[\"Labels\"] = []\n",
    "        fileLabels = audiosetData[\"Labels\"]\n",
    "        data = {}\n",
    "        counter=0\n",
    "        for index, row in df.iterrows():\n",
    "            #Specific to Audiset CSV Inferences\n",
    "            rowStr = row['LabelConfidencePairs']\n",
    "            rowLabels = rowStr.split()\n",
    "            data['VideoId'] = row['VideoId']\n",
    "            data['Label_Data'] = {}\n",
    "            #Create new fields based on Model Labels\n",
    "            for newVal in range(0, int(len(rowLabels))): \n",
    "                #Check to see if the value is a confidence or a Label index\n",
    "                if (newVal % 2 == 0):\n",
    "                    if(newVal <=1):\n",
    "                        x=0\n",
    "                    else:\n",
    "                        x = newVal/2\n",
    "                insertLabel = str(\"label_\"+str(int(x)))\n",
    "                insertLabelConfidence = \"label_\"+str(int(x))+\"_ConfidenceRate\"\n",
    "                #Add value to Label_Data array\n",
    "                if newVal % 2 == 0:\n",
    "                    data['Label_Data'].update({insertLabel:rowLabels[newVal]})\n",
    "                else:\n",
    "                    data['Label_Data'].update({insertLabelConfidence:rowLabels[newVal]})\n",
    "            #print(\"This is DATA :\" + str(data) + \"THe COUNt!! :\"  +  str(index))\n",
    "            #print(data)\n",
    "            #print(index)\n",
    "            counter+=1\n",
    "            #iter(audiosetData).next['VideoId']=data\n",
    "            fileLabels.append(data)\n",
    "            #print(data)\n",
    "            print(counter)\n",
    "            #if(counter == 600):\n",
    "                #print(audiosetData)\n",
    "        #print(audiosetData)\n",
    "        print(\"This is index\" + str(index))\n",
    "        parsed_filename = filename.rsplit(\".\", 1)[0]\n",
    "        output_location = str(json_files + \"/\" + parsed_filename + \".json\")\n",
    "        print(\"OUTPUT FILENAME: \"+output_location)\n",
    "        #Write to json file directory\n",
    "        with open(output_location, 'w') as jsonOut:\n",
    "            json.dump(audiosetData, jsonOut)\n",
    "    else:\n",
    "        continue\n"
   ]
  },
  {
   "cell_type": "code",
   "execution_count": null,
   "metadata": {},
   "outputs": [],
   "source": [
    "print(fileLabels)"
   ]
  }
 ],
 "metadata": {
  "language_info": {
   "name": "python",
   "pygments_lexer": "ipython3"
  }
 },
 "nbformat": 4,
 "nbformat_minor": 2
}
